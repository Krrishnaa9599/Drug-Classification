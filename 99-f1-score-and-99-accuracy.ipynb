{
 "cells": [
  {
   "cell_type": "code",
   "execution_count": 1,
   "metadata": {
    "execution": {
     "iopub.execute_input": "2021-03-10T12:36:39.777053Z",
     "iopub.status.busy": "2021-03-10T12:36:39.776306Z",
     "iopub.status.idle": "2021-03-10T12:36:39.778528Z",
     "shell.execute_reply": "2021-03-10T12:36:39.778966Z"
    },
    "papermill": {
     "duration": 0.030844,
     "end_time": "2021-03-10T12:36:39.779269",
     "exception": false,
     "start_time": "2021-03-10T12:36:39.748425",
     "status": "completed"
    },
    "tags": []
   },
   "outputs": [],
   "source": [
    "import pandas as pd\n",
    "import numpy as np\n",
    "import math"
   ]
  },
  {
   "cell_type": "code",
   "execution_count": 2,
   "metadata": {
    "execution": {
     "iopub.execute_input": "2021-03-10T12:36:39.828633Z",
     "iopub.status.busy": "2021-03-10T12:36:39.828085Z",
     "iopub.status.idle": "2021-03-10T12:36:39.873144Z",
     "shell.execute_reply": "2021-03-10T12:36:39.873567Z"
    },
    "papermill": {
     "duration": 0.071881,
     "end_time": "2021-03-10T12:36:39.873739",
     "exception": false,
     "start_time": "2021-03-10T12:36:39.801858",
     "status": "completed"
    },
    "tags": []
   },
   "outputs": [
    {
     "data": {
      "text/html": [
       "<div>\n",
       "<style scoped>\n",
       "    .dataframe tbody tr th:only-of-type {\n",
       "        vertical-align: middle;\n",
       "    }\n",
       "\n",
       "    .dataframe tbody tr th {\n",
       "        vertical-align: top;\n",
       "    }\n",
       "\n",
       "    .dataframe thead th {\n",
       "        text-align: right;\n",
       "    }\n",
       "</style>\n",
       "<table border=\"1\" class=\"dataframe\">\n",
       "  <thead>\n",
       "    <tr style=\"text-align: right;\">\n",
       "      <th></th>\n",
       "      <th>Age</th>\n",
       "      <th>Sex</th>\n",
       "      <th>BP</th>\n",
       "      <th>Cholesterol</th>\n",
       "      <th>Na_to_K</th>\n",
       "      <th>Drug</th>\n",
       "    </tr>\n",
       "  </thead>\n",
       "  <tbody>\n",
       "    <tr>\n",
       "      <th>0</th>\n",
       "      <td>23</td>\n",
       "      <td>F</td>\n",
       "      <td>HIGH</td>\n",
       "      <td>HIGH</td>\n",
       "      <td>25.355</td>\n",
       "      <td>DrugY</td>\n",
       "    </tr>\n",
       "    <tr>\n",
       "      <th>1</th>\n",
       "      <td>47</td>\n",
       "      <td>M</td>\n",
       "      <td>LOW</td>\n",
       "      <td>HIGH</td>\n",
       "      <td>13.093</td>\n",
       "      <td>drugC</td>\n",
       "    </tr>\n",
       "    <tr>\n",
       "      <th>2</th>\n",
       "      <td>47</td>\n",
       "      <td>M</td>\n",
       "      <td>LOW</td>\n",
       "      <td>HIGH</td>\n",
       "      <td>10.114</td>\n",
       "      <td>drugC</td>\n",
       "    </tr>\n",
       "    <tr>\n",
       "      <th>3</th>\n",
       "      <td>28</td>\n",
       "      <td>F</td>\n",
       "      <td>NORMAL</td>\n",
       "      <td>HIGH</td>\n",
       "      <td>7.798</td>\n",
       "      <td>drugX</td>\n",
       "    </tr>\n",
       "    <tr>\n",
       "      <th>4</th>\n",
       "      <td>61</td>\n",
       "      <td>F</td>\n",
       "      <td>LOW</td>\n",
       "      <td>HIGH</td>\n",
       "      <td>18.043</td>\n",
       "      <td>DrugY</td>\n",
       "    </tr>\n",
       "    <tr>\n",
       "      <th>...</th>\n",
       "      <td>...</td>\n",
       "      <td>...</td>\n",
       "      <td>...</td>\n",
       "      <td>...</td>\n",
       "      <td>...</td>\n",
       "      <td>...</td>\n",
       "    </tr>\n",
       "    <tr>\n",
       "      <th>195</th>\n",
       "      <td>56</td>\n",
       "      <td>F</td>\n",
       "      <td>LOW</td>\n",
       "      <td>HIGH</td>\n",
       "      <td>11.567</td>\n",
       "      <td>drugC</td>\n",
       "    </tr>\n",
       "    <tr>\n",
       "      <th>196</th>\n",
       "      <td>16</td>\n",
       "      <td>M</td>\n",
       "      <td>LOW</td>\n",
       "      <td>HIGH</td>\n",
       "      <td>12.006</td>\n",
       "      <td>drugC</td>\n",
       "    </tr>\n",
       "    <tr>\n",
       "      <th>197</th>\n",
       "      <td>52</td>\n",
       "      <td>M</td>\n",
       "      <td>NORMAL</td>\n",
       "      <td>HIGH</td>\n",
       "      <td>9.894</td>\n",
       "      <td>drugX</td>\n",
       "    </tr>\n",
       "    <tr>\n",
       "      <th>198</th>\n",
       "      <td>23</td>\n",
       "      <td>M</td>\n",
       "      <td>NORMAL</td>\n",
       "      <td>NORMAL</td>\n",
       "      <td>14.020</td>\n",
       "      <td>drugX</td>\n",
       "    </tr>\n",
       "    <tr>\n",
       "      <th>199</th>\n",
       "      <td>40</td>\n",
       "      <td>F</td>\n",
       "      <td>LOW</td>\n",
       "      <td>NORMAL</td>\n",
       "      <td>11.349</td>\n",
       "      <td>drugX</td>\n",
       "    </tr>\n",
       "  </tbody>\n",
       "</table>\n",
       "<p>200 rows × 6 columns</p>\n",
       "</div>"
      ],
      "text/plain": [
       "     Age Sex      BP Cholesterol  Na_to_K   Drug\n",
       "0     23   F    HIGH        HIGH   25.355  DrugY\n",
       "1     47   M     LOW        HIGH   13.093  drugC\n",
       "2     47   M     LOW        HIGH   10.114  drugC\n",
       "3     28   F  NORMAL        HIGH    7.798  drugX\n",
       "4     61   F     LOW        HIGH   18.043  DrugY\n",
       "..   ...  ..     ...         ...      ...    ...\n",
       "195   56   F     LOW        HIGH   11.567  drugC\n",
       "196   16   M     LOW        HIGH   12.006  drugC\n",
       "197   52   M  NORMAL        HIGH    9.894  drugX\n",
       "198   23   M  NORMAL      NORMAL   14.020  drugX\n",
       "199   40   F     LOW      NORMAL   11.349  drugX\n",
       "\n",
       "[200 rows x 6 columns]"
      ]
     },
     "execution_count": 2,
     "metadata": {},
     "output_type": "execute_result"
    }
   ],
   "source": [
    "df= pd.read_csv('../input/drug-classification/drug200.csv')\n",
    "df"
   ]
  },
  {
   "cell_type": "code",
   "execution_count": 3,
   "metadata": {
    "execution": {
     "iopub.execute_input": "2021-03-10T12:36:39.925903Z",
     "iopub.status.busy": "2021-03-10T12:36:39.924839Z",
     "iopub.status.idle": "2021-03-10T12:36:39.928977Z",
     "shell.execute_reply": "2021-03-10T12:36:39.928359Z"
    },
    "papermill": {
     "duration": 0.032459,
     "end_time": "2021-03-10T12:36:39.929111",
     "exception": false,
     "start_time": "2021-03-10T12:36:39.896652",
     "status": "completed"
    },
    "tags": []
   },
   "outputs": [
    {
     "data": {
      "text/plain": [
       "{'DrugY', 'drugA', 'drugB', 'drugC', 'drugX'}"
      ]
     },
     "execution_count": 3,
     "metadata": {},
     "output_type": "execute_result"
    }
   ],
   "source": [
    "set(df['Drug'])"
   ]
  },
  {
   "cell_type": "code",
   "execution_count": 4,
   "metadata": {
    "execution": {
     "iopub.execute_input": "2021-03-10T12:36:39.981756Z",
     "iopub.status.busy": "2021-03-10T12:36:39.980784Z",
     "iopub.status.idle": "2021-03-10T12:36:39.984739Z",
     "shell.execute_reply": "2021-03-10T12:36:39.984291Z"
    },
    "papermill": {
     "duration": 0.033092,
     "end_time": "2021-03-10T12:36:39.984873",
     "exception": false,
     "start_time": "2021-03-10T12:36:39.951781",
     "status": "completed"
    },
    "tags": []
   },
   "outputs": [
    {
     "data": {
      "text/plain": [
       "{0: 'DrugY', 1: 'drugA', 2: 'drugB', 3: 'drugC', 4: 'drugX'}"
      ]
     },
     "execution_count": 4,
     "metadata": {},
     "output_type": "execute_result"
    }
   ],
   "source": [
    "{0:'DrugY', 1:'drugA', 2:'drugB', 3:'drugC', 4:'drugX'}"
   ]
  },
  {
   "cell_type": "markdown",
   "metadata": {
    "papermill": {
     "duration": 0.023854,
     "end_time": "2021-03-10T12:36:40.031860",
     "exception": false,
     "start_time": "2021-03-10T12:36:40.008006",
     "status": "completed"
    },
    "tags": []
   },
   "source": [
    "## Identifing Missing Values"
   ]
  },
  {
   "cell_type": "code",
   "execution_count": 5,
   "metadata": {
    "execution": {
     "iopub.execute_input": "2021-03-10T12:36:40.086759Z",
     "iopub.status.busy": "2021-03-10T12:36:40.086056Z",
     "iopub.status.idle": "2021-03-10T12:36:40.099761Z",
     "shell.execute_reply": "2021-03-10T12:36:40.099281Z"
    },
    "papermill": {
     "duration": 0.044772,
     "end_time": "2021-03-10T12:36:40.099888",
     "exception": false,
     "start_time": "2021-03-10T12:36:40.055116",
     "status": "completed"
    },
    "scrolled": true,
    "tags": []
   },
   "outputs": [
    {
     "data": {
      "text/html": [
       "<div>\n",
       "<style scoped>\n",
       "    .dataframe tbody tr th:only-of-type {\n",
       "        vertical-align: middle;\n",
       "    }\n",
       "\n",
       "    .dataframe tbody tr th {\n",
       "        vertical-align: top;\n",
       "    }\n",
       "\n",
       "    .dataframe thead th {\n",
       "        text-align: right;\n",
       "    }\n",
       "</style>\n",
       "<table border=\"1\" class=\"dataframe\">\n",
       "  <thead>\n",
       "    <tr style=\"text-align: right;\">\n",
       "      <th></th>\n",
       "      <th>Age</th>\n",
       "      <th>Na_to_K</th>\n",
       "    </tr>\n",
       "  </thead>\n",
       "  <tbody>\n",
       "    <tr>\n",
       "      <th>count</th>\n",
       "      <td>200.000000</td>\n",
       "      <td>200.000000</td>\n",
       "    </tr>\n",
       "    <tr>\n",
       "      <th>mean</th>\n",
       "      <td>44.315000</td>\n",
       "      <td>16.084485</td>\n",
       "    </tr>\n",
       "    <tr>\n",
       "      <th>std</th>\n",
       "      <td>16.544315</td>\n",
       "      <td>7.223956</td>\n",
       "    </tr>\n",
       "    <tr>\n",
       "      <th>min</th>\n",
       "      <td>15.000000</td>\n",
       "      <td>6.269000</td>\n",
       "    </tr>\n",
       "    <tr>\n",
       "      <th>25%</th>\n",
       "      <td>31.000000</td>\n",
       "      <td>10.445500</td>\n",
       "    </tr>\n",
       "    <tr>\n",
       "      <th>50%</th>\n",
       "      <td>45.000000</td>\n",
       "      <td>13.936500</td>\n",
       "    </tr>\n",
       "    <tr>\n",
       "      <th>75%</th>\n",
       "      <td>58.000000</td>\n",
       "      <td>19.380000</td>\n",
       "    </tr>\n",
       "    <tr>\n",
       "      <th>max</th>\n",
       "      <td>74.000000</td>\n",
       "      <td>38.247000</td>\n",
       "    </tr>\n",
       "  </tbody>\n",
       "</table>\n",
       "</div>"
      ],
      "text/plain": [
       "              Age     Na_to_K\n",
       "count  200.000000  200.000000\n",
       "mean    44.315000   16.084485\n",
       "std     16.544315    7.223956\n",
       "min     15.000000    6.269000\n",
       "25%     31.000000   10.445500\n",
       "50%     45.000000   13.936500\n",
       "75%     58.000000   19.380000\n",
       "max     74.000000   38.247000"
      ]
     },
     "execution_count": 5,
     "metadata": {},
     "output_type": "execute_result"
    }
   ],
   "source": [
    "df.describe()"
   ]
  },
  {
   "cell_type": "code",
   "execution_count": 6,
   "metadata": {
    "execution": {
     "iopub.execute_input": "2021-03-10T12:36:40.164219Z",
     "iopub.status.busy": "2021-03-10T12:36:40.154440Z",
     "iopub.status.idle": "2021-03-10T12:36:40.168334Z",
     "shell.execute_reply": "2021-03-10T12:36:40.167874Z"
    },
    "papermill": {
     "duration": 0.044803,
     "end_time": "2021-03-10T12:36:40.168473",
     "exception": false,
     "start_time": "2021-03-10T12:36:40.123670",
     "status": "completed"
    },
    "tags": []
   },
   "outputs": [
    {
     "name": "stdout",
     "output_type": "stream",
     "text": [
      "<class 'pandas.core.frame.DataFrame'>\n",
      "RangeIndex: 200 entries, 0 to 199\n",
      "Data columns (total 6 columns):\n",
      " #   Column       Non-Null Count  Dtype  \n",
      "---  ------       --------------  -----  \n",
      " 0   Age          200 non-null    int64  \n",
      " 1   Sex          200 non-null    object \n",
      " 2   BP           200 non-null    object \n",
      " 3   Cholesterol  200 non-null    object \n",
      " 4   Na_to_K      200 non-null    float64\n",
      " 5   Drug         200 non-null    object \n",
      "dtypes: float64(1), int64(1), object(4)\n",
      "memory usage: 9.5+ KB\n"
     ]
    }
   ],
   "source": [
    "df.info()"
   ]
  },
  {
   "cell_type": "markdown",
   "metadata": {
    "papermill": {
     "duration": 0.024964,
     "end_time": "2021-03-10T12:36:40.219097",
     "exception": false,
     "start_time": "2021-03-10T12:36:40.194133",
     "status": "completed"
    },
    "tags": []
   },
   "source": [
    "## Handling Categorical Variables"
   ]
  },
  {
   "cell_type": "code",
   "execution_count": 7,
   "metadata": {
    "execution": {
     "iopub.execute_input": "2021-03-10T12:36:40.283509Z",
     "iopub.status.busy": "2021-03-10T12:36:40.281977Z",
     "iopub.status.idle": "2021-03-10T12:36:40.284996Z",
     "shell.execute_reply": "2021-03-10T12:36:40.284477Z"
    },
    "papermill": {
     "duration": 0.041056,
     "end_time": "2021-03-10T12:36:40.285126",
     "exception": false,
     "start_time": "2021-03-10T12:36:40.244070",
     "status": "completed"
    },
    "tags": []
   },
   "outputs": [],
   "source": [
    "X=df.drop('Drug', axis=1)\n",
    "Y=df['Drug']\n",
    "\n",
    "X=pd.get_dummies(X)"
   ]
  },
  {
   "cell_type": "code",
   "execution_count": 8,
   "metadata": {
    "execution": {
     "iopub.execute_input": "2021-03-10T12:36:40.341982Z",
     "iopub.status.busy": "2021-03-10T12:36:40.341220Z",
     "iopub.status.idle": "2021-03-10T12:36:40.344251Z",
     "shell.execute_reply": "2021-03-10T12:36:40.343846Z"
    },
    "papermill": {
     "duration": 0.034078,
     "end_time": "2021-03-10T12:36:40.344370",
     "exception": false,
     "start_time": "2021-03-10T12:36:40.310292",
     "status": "completed"
    },
    "tags": []
   },
   "outputs": [],
   "source": [
    "Y=Y.map(lambda x:0 if x.strip()=='DrugY' else 1 if x.strip()=='drugA' else 2 if x.strip()=='drugB' else 3 if x.strip()=='drugC' else 4)"
   ]
  },
  {
   "cell_type": "code",
   "execution_count": 9,
   "metadata": {
    "execution": {
     "iopub.execute_input": "2021-03-10T12:36:40.401033Z",
     "iopub.status.busy": "2021-03-10T12:36:40.400084Z",
     "iopub.status.idle": "2021-03-10T12:36:40.415306Z",
     "shell.execute_reply": "2021-03-10T12:36:40.415711Z"
    },
    "papermill": {
     "duration": 0.045924,
     "end_time": "2021-03-10T12:36:40.415880",
     "exception": false,
     "start_time": "2021-03-10T12:36:40.369956",
     "status": "completed"
    },
    "tags": []
   },
   "outputs": [
    {
     "data": {
      "text/html": [
       "<div>\n",
       "<style scoped>\n",
       "    .dataframe tbody tr th:only-of-type {\n",
       "        vertical-align: middle;\n",
       "    }\n",
       "\n",
       "    .dataframe tbody tr th {\n",
       "        vertical-align: top;\n",
       "    }\n",
       "\n",
       "    .dataframe thead th {\n",
       "        text-align: right;\n",
       "    }\n",
       "</style>\n",
       "<table border=\"1\" class=\"dataframe\">\n",
       "  <thead>\n",
       "    <tr style=\"text-align: right;\">\n",
       "      <th></th>\n",
       "      <th>Age</th>\n",
       "      <th>Na_to_K</th>\n",
       "      <th>Sex_F</th>\n",
       "      <th>Sex_M</th>\n",
       "      <th>BP_HIGH</th>\n",
       "      <th>BP_LOW</th>\n",
       "      <th>BP_NORMAL</th>\n",
       "      <th>Cholesterol_HIGH</th>\n",
       "      <th>Cholesterol_NORMAL</th>\n",
       "    </tr>\n",
       "  </thead>\n",
       "  <tbody>\n",
       "    <tr>\n",
       "      <th>0</th>\n",
       "      <td>23</td>\n",
       "      <td>25.355</td>\n",
       "      <td>1</td>\n",
       "      <td>0</td>\n",
       "      <td>1</td>\n",
       "      <td>0</td>\n",
       "      <td>0</td>\n",
       "      <td>1</td>\n",
       "      <td>0</td>\n",
       "    </tr>\n",
       "    <tr>\n",
       "      <th>1</th>\n",
       "      <td>47</td>\n",
       "      <td>13.093</td>\n",
       "      <td>0</td>\n",
       "      <td>1</td>\n",
       "      <td>0</td>\n",
       "      <td>1</td>\n",
       "      <td>0</td>\n",
       "      <td>1</td>\n",
       "      <td>0</td>\n",
       "    </tr>\n",
       "    <tr>\n",
       "      <th>2</th>\n",
       "      <td>47</td>\n",
       "      <td>10.114</td>\n",
       "      <td>0</td>\n",
       "      <td>1</td>\n",
       "      <td>0</td>\n",
       "      <td>1</td>\n",
       "      <td>0</td>\n",
       "      <td>1</td>\n",
       "      <td>0</td>\n",
       "    </tr>\n",
       "    <tr>\n",
       "      <th>3</th>\n",
       "      <td>28</td>\n",
       "      <td>7.798</td>\n",
       "      <td>1</td>\n",
       "      <td>0</td>\n",
       "      <td>0</td>\n",
       "      <td>0</td>\n",
       "      <td>1</td>\n",
       "      <td>1</td>\n",
       "      <td>0</td>\n",
       "    </tr>\n",
       "    <tr>\n",
       "      <th>4</th>\n",
       "      <td>61</td>\n",
       "      <td>18.043</td>\n",
       "      <td>1</td>\n",
       "      <td>0</td>\n",
       "      <td>0</td>\n",
       "      <td>1</td>\n",
       "      <td>0</td>\n",
       "      <td>1</td>\n",
       "      <td>0</td>\n",
       "    </tr>\n",
       "    <tr>\n",
       "      <th>...</th>\n",
       "      <td>...</td>\n",
       "      <td>...</td>\n",
       "      <td>...</td>\n",
       "      <td>...</td>\n",
       "      <td>...</td>\n",
       "      <td>...</td>\n",
       "      <td>...</td>\n",
       "      <td>...</td>\n",
       "      <td>...</td>\n",
       "    </tr>\n",
       "    <tr>\n",
       "      <th>195</th>\n",
       "      <td>56</td>\n",
       "      <td>11.567</td>\n",
       "      <td>1</td>\n",
       "      <td>0</td>\n",
       "      <td>0</td>\n",
       "      <td>1</td>\n",
       "      <td>0</td>\n",
       "      <td>1</td>\n",
       "      <td>0</td>\n",
       "    </tr>\n",
       "    <tr>\n",
       "      <th>196</th>\n",
       "      <td>16</td>\n",
       "      <td>12.006</td>\n",
       "      <td>0</td>\n",
       "      <td>1</td>\n",
       "      <td>0</td>\n",
       "      <td>1</td>\n",
       "      <td>0</td>\n",
       "      <td>1</td>\n",
       "      <td>0</td>\n",
       "    </tr>\n",
       "    <tr>\n",
       "      <th>197</th>\n",
       "      <td>52</td>\n",
       "      <td>9.894</td>\n",
       "      <td>0</td>\n",
       "      <td>1</td>\n",
       "      <td>0</td>\n",
       "      <td>0</td>\n",
       "      <td>1</td>\n",
       "      <td>1</td>\n",
       "      <td>0</td>\n",
       "    </tr>\n",
       "    <tr>\n",
       "      <th>198</th>\n",
       "      <td>23</td>\n",
       "      <td>14.020</td>\n",
       "      <td>0</td>\n",
       "      <td>1</td>\n",
       "      <td>0</td>\n",
       "      <td>0</td>\n",
       "      <td>1</td>\n",
       "      <td>0</td>\n",
       "      <td>1</td>\n",
       "    </tr>\n",
       "    <tr>\n",
       "      <th>199</th>\n",
       "      <td>40</td>\n",
       "      <td>11.349</td>\n",
       "      <td>1</td>\n",
       "      <td>0</td>\n",
       "      <td>0</td>\n",
       "      <td>1</td>\n",
       "      <td>0</td>\n",
       "      <td>0</td>\n",
       "      <td>1</td>\n",
       "    </tr>\n",
       "  </tbody>\n",
       "</table>\n",
       "<p>200 rows × 9 columns</p>\n",
       "</div>"
      ],
      "text/plain": [
       "     Age  Na_to_K  Sex_F  Sex_M  BP_HIGH  BP_LOW  BP_NORMAL  Cholesterol_HIGH  \\\n",
       "0     23   25.355      1      0        1       0          0                 1   \n",
       "1     47   13.093      0      1        0       1          0                 1   \n",
       "2     47   10.114      0      1        0       1          0                 1   \n",
       "3     28    7.798      1      0        0       0          1                 1   \n",
       "4     61   18.043      1      0        0       1          0                 1   \n",
       "..   ...      ...    ...    ...      ...     ...        ...               ...   \n",
       "195   56   11.567      1      0        0       1          0                 1   \n",
       "196   16   12.006      0      1        0       1          0                 1   \n",
       "197   52    9.894      0      1        0       0          1                 1   \n",
       "198   23   14.020      0      1        0       0          1                 0   \n",
       "199   40   11.349      1      0        0       1          0                 0   \n",
       "\n",
       "     Cholesterol_NORMAL  \n",
       "0                     0  \n",
       "1                     0  \n",
       "2                     0  \n",
       "3                     0  \n",
       "4                     0  \n",
       "..                  ...  \n",
       "195                   0  \n",
       "196                   0  \n",
       "197                   0  \n",
       "198                   1  \n",
       "199                   1  \n",
       "\n",
       "[200 rows x 9 columns]"
      ]
     },
     "execution_count": 9,
     "metadata": {},
     "output_type": "execute_result"
    }
   ],
   "source": [
    "X"
   ]
  },
  {
   "cell_type": "code",
   "execution_count": 10,
   "metadata": {
    "execution": {
     "iopub.execute_input": "2021-03-10T12:36:40.474166Z",
     "iopub.status.busy": "2021-03-10T12:36:40.473342Z",
     "iopub.status.idle": "2021-03-10T12:36:40.477545Z",
     "shell.execute_reply": "2021-03-10T12:36:40.477080Z"
    },
    "papermill": {
     "duration": 0.035854,
     "end_time": "2021-03-10T12:36:40.477680",
     "exception": false,
     "start_time": "2021-03-10T12:36:40.441826",
     "status": "completed"
    },
    "tags": []
   },
   "outputs": [
    {
     "data": {
      "text/plain": [
       "0      0\n",
       "1      3\n",
       "2      3\n",
       "3      4\n",
       "4      0\n",
       "      ..\n",
       "195    3\n",
       "196    3\n",
       "197    4\n",
       "198    4\n",
       "199    4\n",
       "Name: Drug, Length: 200, dtype: int64"
      ]
     },
     "execution_count": 10,
     "metadata": {},
     "output_type": "execute_result"
    }
   ],
   "source": [
    "Y"
   ]
  },
  {
   "cell_type": "code",
   "execution_count": 11,
   "metadata": {
    "execution": {
     "iopub.execute_input": "2021-03-10T12:36:40.536227Z",
     "iopub.status.busy": "2021-03-10T12:36:40.535595Z",
     "iopub.status.idle": "2021-03-10T12:36:40.547365Z",
     "shell.execute_reply": "2021-03-10T12:36:40.547775Z"
    },
    "papermill": {
     "duration": 0.044263,
     "end_time": "2021-03-10T12:36:40.547965",
     "exception": false,
     "start_time": "2021-03-10T12:36:40.503702",
     "status": "completed"
    },
    "tags": []
   },
   "outputs": [
    {
     "name": "stdout",
     "output_type": "stream",
     "text": [
      "<class 'pandas.core.frame.DataFrame'>\n",
      "RangeIndex: 200 entries, 0 to 199\n",
      "Data columns (total 9 columns):\n",
      " #   Column              Non-Null Count  Dtype  \n",
      "---  ------              --------------  -----  \n",
      " 0   Age                 200 non-null    int64  \n",
      " 1   Na_to_K             200 non-null    float64\n",
      " 2   Sex_F               200 non-null    uint8  \n",
      " 3   Sex_M               200 non-null    uint8  \n",
      " 4   BP_HIGH             200 non-null    uint8  \n",
      " 5   BP_LOW              200 non-null    uint8  \n",
      " 6   BP_NORMAL           200 non-null    uint8  \n",
      " 7   Cholesterol_HIGH    200 non-null    uint8  \n",
      " 8   Cholesterol_NORMAL  200 non-null    uint8  \n",
      "dtypes: float64(1), int64(1), uint8(7)\n",
      "memory usage: 4.6 KB\n"
     ]
    }
   ],
   "source": [
    "X.info()"
   ]
  },
  {
   "cell_type": "code",
   "execution_count": 12,
   "metadata": {
    "execution": {
     "iopub.execute_input": "2021-03-10T12:36:40.608373Z",
     "iopub.status.busy": "2021-03-10T12:36:40.607825Z",
     "iopub.status.idle": "2021-03-10T12:36:40.611115Z",
     "shell.execute_reply": "2021-03-10T12:36:40.610578Z"
    },
    "papermill": {
     "duration": 0.03693,
     "end_time": "2021-03-10T12:36:40.611246",
     "exception": false,
     "start_time": "2021-03-10T12:36:40.574316",
     "status": "completed"
    },
    "tags": []
   },
   "outputs": [
    {
     "data": {
      "text/plain": [
       "Age                   0\n",
       "Na_to_K               0\n",
       "Sex_F                 0\n",
       "Sex_M                 0\n",
       "BP_HIGH               0\n",
       "BP_LOW                0\n",
       "BP_NORMAL             0\n",
       "Cholesterol_HIGH      0\n",
       "Cholesterol_NORMAL    0\n",
       "dtype: int64"
      ]
     },
     "execution_count": 12,
     "metadata": {},
     "output_type": "execute_result"
    }
   ],
   "source": [
    "X.isnull().sum()"
   ]
  },
  {
   "cell_type": "code",
   "execution_count": 13,
   "metadata": {
    "execution": {
     "iopub.execute_input": "2021-03-10T12:36:40.676603Z",
     "iopub.status.busy": "2021-03-10T12:36:40.675972Z",
     "iopub.status.idle": "2021-03-10T12:36:40.702252Z",
     "shell.execute_reply": "2021-03-10T12:36:40.702670Z"
    },
    "papermill": {
     "duration": 0.0641,
     "end_time": "2021-03-10T12:36:40.702853",
     "exception": false,
     "start_time": "2021-03-10T12:36:40.638753",
     "status": "completed"
    },
    "tags": []
   },
   "outputs": [
    {
     "data": {
      "text/html": [
       "<div>\n",
       "<style scoped>\n",
       "    .dataframe tbody tr th:only-of-type {\n",
       "        vertical-align: middle;\n",
       "    }\n",
       "\n",
       "    .dataframe tbody tr th {\n",
       "        vertical-align: top;\n",
       "    }\n",
       "\n",
       "    .dataframe thead th {\n",
       "        text-align: right;\n",
       "    }\n",
       "</style>\n",
       "<table border=\"1\" class=\"dataframe\">\n",
       "  <thead>\n",
       "    <tr style=\"text-align: right;\">\n",
       "      <th></th>\n",
       "      <th>Age</th>\n",
       "      <th>Na_to_K</th>\n",
       "      <th>Sex_F</th>\n",
       "      <th>Sex_M</th>\n",
       "      <th>BP_HIGH</th>\n",
       "      <th>BP_LOW</th>\n",
       "      <th>BP_NORMAL</th>\n",
       "      <th>Cholesterol_HIGH</th>\n",
       "      <th>Cholesterol_NORMAL</th>\n",
       "    </tr>\n",
       "  </thead>\n",
       "  <tbody>\n",
       "    <tr>\n",
       "      <th>count</th>\n",
       "      <td>200.000000</td>\n",
       "      <td>200.000000</td>\n",
       "      <td>200.000000</td>\n",
       "      <td>200.000000</td>\n",
       "      <td>200.000000</td>\n",
       "      <td>200.000000</td>\n",
       "      <td>200.000000</td>\n",
       "      <td>200.000000</td>\n",
       "      <td>200.000000</td>\n",
       "    </tr>\n",
       "    <tr>\n",
       "      <th>mean</th>\n",
       "      <td>44.315000</td>\n",
       "      <td>16.084485</td>\n",
       "      <td>0.480000</td>\n",
       "      <td>0.520000</td>\n",
       "      <td>0.385000</td>\n",
       "      <td>0.320000</td>\n",
       "      <td>0.295000</td>\n",
       "      <td>0.515000</td>\n",
       "      <td>0.485000</td>\n",
       "    </tr>\n",
       "    <tr>\n",
       "      <th>std</th>\n",
       "      <td>16.544315</td>\n",
       "      <td>7.223956</td>\n",
       "      <td>0.500854</td>\n",
       "      <td>0.500854</td>\n",
       "      <td>0.487816</td>\n",
       "      <td>0.467647</td>\n",
       "      <td>0.457187</td>\n",
       "      <td>0.501029</td>\n",
       "      <td>0.501029</td>\n",
       "    </tr>\n",
       "    <tr>\n",
       "      <th>min</th>\n",
       "      <td>15.000000</td>\n",
       "      <td>6.269000</td>\n",
       "      <td>0.000000</td>\n",
       "      <td>0.000000</td>\n",
       "      <td>0.000000</td>\n",
       "      <td>0.000000</td>\n",
       "      <td>0.000000</td>\n",
       "      <td>0.000000</td>\n",
       "      <td>0.000000</td>\n",
       "    </tr>\n",
       "    <tr>\n",
       "      <th>25%</th>\n",
       "      <td>31.000000</td>\n",
       "      <td>10.445500</td>\n",
       "      <td>0.000000</td>\n",
       "      <td>0.000000</td>\n",
       "      <td>0.000000</td>\n",
       "      <td>0.000000</td>\n",
       "      <td>0.000000</td>\n",
       "      <td>0.000000</td>\n",
       "      <td>0.000000</td>\n",
       "    </tr>\n",
       "    <tr>\n",
       "      <th>50%</th>\n",
       "      <td>45.000000</td>\n",
       "      <td>13.936500</td>\n",
       "      <td>0.000000</td>\n",
       "      <td>1.000000</td>\n",
       "      <td>0.000000</td>\n",
       "      <td>0.000000</td>\n",
       "      <td>0.000000</td>\n",
       "      <td>1.000000</td>\n",
       "      <td>0.000000</td>\n",
       "    </tr>\n",
       "    <tr>\n",
       "      <th>75%</th>\n",
       "      <td>58.000000</td>\n",
       "      <td>19.380000</td>\n",
       "      <td>1.000000</td>\n",
       "      <td>1.000000</td>\n",
       "      <td>1.000000</td>\n",
       "      <td>1.000000</td>\n",
       "      <td>1.000000</td>\n",
       "      <td>1.000000</td>\n",
       "      <td>1.000000</td>\n",
       "    </tr>\n",
       "    <tr>\n",
       "      <th>max</th>\n",
       "      <td>74.000000</td>\n",
       "      <td>38.247000</td>\n",
       "      <td>1.000000</td>\n",
       "      <td>1.000000</td>\n",
       "      <td>1.000000</td>\n",
       "      <td>1.000000</td>\n",
       "      <td>1.000000</td>\n",
       "      <td>1.000000</td>\n",
       "      <td>1.000000</td>\n",
       "    </tr>\n",
       "  </tbody>\n",
       "</table>\n",
       "</div>"
      ],
      "text/plain": [
       "              Age     Na_to_K       Sex_F       Sex_M     BP_HIGH      BP_LOW  \\\n",
       "count  200.000000  200.000000  200.000000  200.000000  200.000000  200.000000   \n",
       "mean    44.315000   16.084485    0.480000    0.520000    0.385000    0.320000   \n",
       "std     16.544315    7.223956    0.500854    0.500854    0.487816    0.467647   \n",
       "min     15.000000    6.269000    0.000000    0.000000    0.000000    0.000000   \n",
       "25%     31.000000   10.445500    0.000000    0.000000    0.000000    0.000000   \n",
       "50%     45.000000   13.936500    0.000000    1.000000    0.000000    0.000000   \n",
       "75%     58.000000   19.380000    1.000000    1.000000    1.000000    1.000000   \n",
       "max     74.000000   38.247000    1.000000    1.000000    1.000000    1.000000   \n",
       "\n",
       "        BP_NORMAL  Cholesterol_HIGH  Cholesterol_NORMAL  \n",
       "count  200.000000        200.000000          200.000000  \n",
       "mean     0.295000          0.515000            0.485000  \n",
       "std      0.457187          0.501029            0.501029  \n",
       "min      0.000000          0.000000            0.000000  \n",
       "25%      0.000000          0.000000            0.000000  \n",
       "50%      0.000000          1.000000            0.000000  \n",
       "75%      1.000000          1.000000            1.000000  \n",
       "max      1.000000          1.000000            1.000000  "
      ]
     },
     "execution_count": 13,
     "metadata": {},
     "output_type": "execute_result"
    }
   ],
   "source": [
    "X.describe()"
   ]
  },
  {
   "cell_type": "markdown",
   "metadata": {
    "papermill": {
     "duration": 0.027872,
     "end_time": "2021-03-10T12:36:40.758196",
     "exception": false,
     "start_time": "2021-03-10T12:36:40.730324",
     "status": "completed"
    },
    "tags": []
   },
   "source": [
    "## Identifing occurence of each category"
   ]
  },
  {
   "cell_type": "code",
   "execution_count": 14,
   "metadata": {
    "execution": {
     "iopub.execute_input": "2021-03-10T12:36:40.816376Z",
     "iopub.status.busy": "2021-03-10T12:36:40.815766Z",
     "iopub.status.idle": "2021-03-10T12:36:40.821640Z",
     "shell.execute_reply": "2021-03-10T12:36:40.822124Z"
    },
    "papermill": {
     "duration": 0.036734,
     "end_time": "2021-03-10T12:36:40.822296",
     "exception": false,
     "start_time": "2021-03-10T12:36:40.785562",
     "status": "completed"
    },
    "tags": []
   },
   "outputs": [
    {
     "data": {
      "text/plain": [
       "0    91\n",
       "4    54\n",
       "1    23\n",
       "2    16\n",
       "3    16\n",
       "Name: Drug, dtype: int64"
      ]
     },
     "execution_count": 14,
     "metadata": {},
     "output_type": "execute_result"
    }
   ],
   "source": [
    "Y.value_counts()"
   ]
  },
  {
   "cell_type": "code",
   "execution_count": 15,
   "metadata": {
    "execution": {
     "iopub.execute_input": "2021-03-10T12:36:40.880299Z",
     "iopub.status.busy": "2021-03-10T12:36:40.879660Z",
     "iopub.status.idle": "2021-03-10T12:36:40.885473Z",
     "shell.execute_reply": "2021-03-10T12:36:40.885015Z"
    },
    "papermill": {
     "duration": 0.035412,
     "end_time": "2021-03-10T12:36:40.885611",
     "exception": false,
     "start_time": "2021-03-10T12:36:40.850199",
     "status": "completed"
    },
    "tags": []
   },
   "outputs": [
    {
     "name": "stdout",
     "output_type": "stream",
     "text": [
      "(200, 9)\n",
      "(200,)\n"
     ]
    }
   ],
   "source": [
    "print(X.shape)\n",
    "print(Y.shape)"
   ]
  },
  {
   "cell_type": "code",
   "execution_count": 16,
   "metadata": {
    "execution": {
     "iopub.execute_input": "2021-03-10T12:36:40.945241Z",
     "iopub.status.busy": "2021-03-10T12:36:40.944296Z",
     "iopub.status.idle": "2021-03-10T12:36:40.951529Z",
     "shell.execute_reply": "2021-03-10T12:36:40.952028Z"
    },
    "papermill": {
     "duration": 0.039012,
     "end_time": "2021-03-10T12:36:40.952193",
     "exception": false,
     "start_time": "2021-03-10T12:36:40.913181",
     "status": "completed"
    },
    "tags": []
   },
   "outputs": [
    {
     "name": "stdout",
     "output_type": "stream",
     "text": [
      "X= (200, 9)\n",
      "Y= (200,)\n",
      "0    91\n",
      "4    54\n",
      "1    23\n",
      "2    16\n",
      "3    16\n",
      "Name: Drug, dtype: int64\n"
     ]
    }
   ],
   "source": [
    "print('X=', X.shape)\n",
    "print('Y=', Y.shape)\n",
    "print(Y.value_counts())"
   ]
  },
  {
   "cell_type": "markdown",
   "metadata": {
    "papermill": {
     "duration": 0.029126,
     "end_time": "2021-03-10T12:36:41.010904",
     "exception": false,
     "start_time": "2021-03-10T12:36:40.981778",
     "status": "completed"
    },
    "tags": []
   },
   "source": [
    "## Splitting data into Train and Test data"
   ]
  },
  {
   "cell_type": "code",
   "execution_count": 17,
   "metadata": {
    "execution": {
     "iopub.execute_input": "2021-03-10T12:36:41.073299Z",
     "iopub.status.busy": "2021-03-10T12:36:41.072667Z",
     "iopub.status.idle": "2021-03-10T12:36:41.995348Z",
     "shell.execute_reply": "2021-03-10T12:36:41.994654Z"
    },
    "papermill": {
     "duration": 0.955746,
     "end_time": "2021-03-10T12:36:41.995486",
     "exception": false,
     "start_time": "2021-03-10T12:36:41.039740",
     "status": "completed"
    },
    "tags": []
   },
   "outputs": [],
   "source": [
    "from sklearn.model_selection import train_test_split"
   ]
  },
  {
   "cell_type": "code",
   "execution_count": 18,
   "metadata": {
    "execution": {
     "iopub.execute_input": "2021-03-10T12:36:42.058956Z",
     "iopub.status.busy": "2021-03-10T12:36:42.058278Z",
     "iopub.status.idle": "2021-03-10T12:36:42.065268Z",
     "shell.execute_reply": "2021-03-10T12:36:42.064836Z"
    },
    "papermill": {
     "duration": 0.040764,
     "end_time": "2021-03-10T12:36:42.065408",
     "exception": false,
     "start_time": "2021-03-10T12:36:42.024644",
     "status": "completed"
    },
    "tags": []
   },
   "outputs": [],
   "source": [
    "x_train, x_test, y_train, y_test= train_test_split(X, Y, train_size=0.9, random_state=42, stratify=Y)"
   ]
  },
  {
   "cell_type": "code",
   "execution_count": 19,
   "metadata": {
    "execution": {
     "iopub.execute_input": "2021-03-10T12:36:42.129539Z",
     "iopub.status.busy": "2021-03-10T12:36:42.128608Z",
     "iopub.status.idle": "2021-03-10T12:36:42.132069Z",
     "shell.execute_reply": "2021-03-10T12:36:42.132560Z"
    },
    "papermill": {
     "duration": 0.038096,
     "end_time": "2021-03-10T12:36:42.132771",
     "exception": false,
     "start_time": "2021-03-10T12:36:42.094675",
     "status": "completed"
    },
    "scrolled": true,
    "tags": []
   },
   "outputs": [
    {
     "name": "stdout",
     "output_type": "stream",
     "text": [
      "x train: (180, 9)\n",
      "x test (20, 9)\n",
      "y train (180,)\n",
      "y test (20,)\n"
     ]
    }
   ],
   "source": [
    "print('x train:',x_train.shape)\n",
    "print('x test',x_test.shape)\n",
    "print('y train',y_train.shape)\n",
    "print('y test', y_test.shape)"
   ]
  },
  {
   "cell_type": "markdown",
   "metadata": {
    "papermill": {
     "duration": 0.029071,
     "end_time": "2021-03-10T12:36:42.190968",
     "exception": false,
     "start_time": "2021-03-10T12:36:42.161897",
     "status": "completed"
    },
    "tags": []
   },
   "source": [
    "## Training"
   ]
  },
  {
   "cell_type": "code",
   "execution_count": 20,
   "metadata": {
    "execution": {
     "iopub.execute_input": "2021-03-10T12:36:42.255508Z",
     "iopub.status.busy": "2021-03-10T12:36:42.254575Z",
     "iopub.status.idle": "2021-03-10T12:36:42.798303Z",
     "shell.execute_reply": "2021-03-10T12:36:42.797578Z"
    },
    "papermill": {
     "duration": 0.578046,
     "end_time": "2021-03-10T12:36:42.798456",
     "exception": false,
     "start_time": "2021-03-10T12:36:42.220410",
     "status": "completed"
    },
    "tags": []
   },
   "outputs": [],
   "source": [
    "from sklearn.model_selection import GridSearchCV\n",
    "from sklearn.pipeline import Pipeline\n",
    "from sklearn.preprocessing import StandardScaler\n",
    "\n",
    "from sklearn.linear_model import LogisticRegression\n",
    "from sklearn.ensemble import RandomForestClassifier\n",
    "from sklearn.tree import DecisionTreeClassifier\n",
    "from sklearn.dummy import DummyClassifier\n",
    "from sklearn.svm import SVC\n",
    "from xgboost import XGBClassifier\n",
    "from sklearn.ensemble import BaggingClassifier"
   ]
  },
  {
   "cell_type": "code",
   "execution_count": 21,
   "metadata": {
    "execution": {
     "iopub.execute_input": "2021-03-10T12:36:42.870374Z",
     "iopub.status.busy": "2021-03-10T12:36:42.869478Z",
     "iopub.status.idle": "2021-03-10T12:36:42.872486Z",
     "shell.execute_reply": "2021-03-10T12:36:42.871945Z"
    },
    "papermill": {
     "duration": 0.0441,
     "end_time": "2021-03-10T12:36:42.872614",
     "exception": false,
     "start_time": "2021-03-10T12:36:42.828514",
     "status": "completed"
    },
    "tags": []
   },
   "outputs": [],
   "source": [
    "scc=StandardScaler()\n",
    "x_train=scc.fit_transform(x_train)"
   ]
  },
  {
   "cell_type": "code",
   "execution_count": 22,
   "metadata": {
    "execution": {
     "iopub.execute_input": "2021-03-10T12:36:42.940572Z",
     "iopub.status.busy": "2021-03-10T12:36:42.939665Z",
     "iopub.status.idle": "2021-03-10T12:36:42.942560Z",
     "shell.execute_reply": "2021-03-10T12:36:42.942077Z"
    },
    "papermill": {
     "duration": 0.040232,
     "end_time": "2021-03-10T12:36:42.942720",
     "exception": false,
     "start_time": "2021-03-10T12:36:42.902488",
     "status": "completed"
    },
    "tags": []
   },
   "outputs": [],
   "source": [
    "#pipe=Pipeline([('standardscaler', StandardScaler()),('classifier', BaggingClassifier())])\n",
    "pipe=Pipeline([('classifier', BaggingClassifier())])\n",
    "\n",
    "# You can run all algorithms but running all algorithms takes very long time\n",
    "# DecisionTreeClassifier gives best accuracy and f1-score than remaining so I only ran this algorithm \n",
    "\n",
    "grid_param=[\n",
    "                #{\n",
    "                #    'classifier': [LogisticRegression()],\n",
    "                #    'classifier__penalty':['l2','l1'],\n",
    "                #    'classifier__C':np.logspace(0,4,10)\n",
    "                #},\n",
    "                #{\n",
    "                #    'classifier':[SVC()],\n",
    "                #    'classifier__kernel':['rbf'],\n",
    "                #    'classifier__gamma':[0.001,0.0001,0.01,0.1, 0,1,10,100,1000,10000],\n",
    "                #    'classifier__C':[0.001,0.0001,0.01,0.1, 0,1,10,100,1000,10000],\n",
    "                #},\n",
    "                {\n",
    "                    'classifier':[DecisionTreeClassifier()],\n",
    "                    'classifier__max_leaf_nodes':np.arange(1,11)\n",
    "                },\n",
    "                #{\n",
    "                #    'classifier':[RandomForestClassifier()],\n",
    "                #    'classifier__n_estimators':np.arange(50,1050,50),\n",
    "                #    'classifier__max_leaf_nodes':np.arange(1,11)\n",
    "                #},\n",
    "                #{\n",
    "                #    'classifier':[XGBClassifier()],\n",
    "                #    'classifier__n_estimators':np.arange(50,1050,50),\n",
    "                    #'classifier__max_leaf_nodes':np.arange(1,11)\n",
    "                #    'classifier__max_depth':np.arange(1,21)\n",
    "                #}\n",
    "]"
   ]
  },
  {
   "cell_type": "code",
   "execution_count": 23,
   "metadata": {
    "execution": {
     "iopub.execute_input": "2021-03-10T12:36:43.008216Z",
     "iopub.status.busy": "2021-03-10T12:36:43.007417Z",
     "iopub.status.idle": "2021-03-10T12:36:43.010771Z",
     "shell.execute_reply": "2021-03-10T12:36:43.010202Z"
    },
    "papermill": {
     "duration": 0.037576,
     "end_time": "2021-03-10T12:36:43.010917",
     "exception": false,
     "start_time": "2021-03-10T12:36:42.973341",
     "status": "completed"
    },
    "tags": []
   },
   "outputs": [],
   "source": [
    "from sklearn.model_selection import StratifiedKFold\n",
    "\n",
    "skf=StratifiedKFold(n_splits=3, random_state=None)   "
   ]
  },
  {
   "cell_type": "code",
   "execution_count": 24,
   "metadata": {
    "execution": {
     "iopub.execute_input": "2021-03-10T12:36:43.076429Z",
     "iopub.status.busy": "2021-03-10T12:36:43.075772Z",
     "iopub.status.idle": "2021-03-10T12:36:45.167379Z",
     "shell.execute_reply": "2021-03-10T12:36:45.166741Z"
    },
    "papermill": {
     "duration": 2.127132,
     "end_time": "2021-03-10T12:36:45.167549",
     "exception": false,
     "start_time": "2021-03-10T12:36:43.040417",
     "status": "completed"
    },
    "tags": []
   },
   "outputs": [
    {
     "name": "stdout",
     "output_type": "stream",
     "text": [
      "Fitting 3 folds for each of 10 candidates, totalling 30 fits\n"
     ]
    },
    {
     "name": "stderr",
     "output_type": "stream",
     "text": [
      "/opt/conda/lib/python3.7/site-packages/sklearn/model_selection/_search.py:921: UserWarning: One or more of the test scores are non-finite: [       nan 0.33331519 0.52513404 0.75003658 0.7738604  0.975\n",
      " 0.975      0.975      0.975      0.975     ]\n",
      "  category=UserWarning\n"
     ]
    }
   ],
   "source": [
    "grid_search= GridSearchCV(pipe, grid_param, cv=skf, verbose=4, n_jobs=-1, scoring='f1_macro')\n",
    "best_model=grid_search.fit(x_train, y_train)"
   ]
  },
  {
   "cell_type": "code",
   "execution_count": 25,
   "metadata": {
    "execution": {
     "iopub.execute_input": "2021-03-10T12:36:45.234249Z",
     "iopub.status.busy": "2021-03-10T12:36:45.233581Z",
     "iopub.status.idle": "2021-03-10T12:36:45.239439Z",
     "shell.execute_reply": "2021-03-10T12:36:45.238956Z"
    },
    "papermill": {
     "duration": 0.041047,
     "end_time": "2021-03-10T12:36:45.239570",
     "exception": false,
     "start_time": "2021-03-10T12:36:45.198523",
     "status": "completed"
    },
    "tags": []
   },
   "outputs": [
    {
     "name": "stdout",
     "output_type": "stream",
     "text": [
      "Pipeline(steps=[('classifier', DecisionTreeClassifier(max_leaf_nodes=6))])\n"
     ]
    }
   ],
   "source": [
    "print(best_model.best_estimator_)"
   ]
  },
  {
   "cell_type": "code",
   "execution_count": 26,
   "metadata": {
    "execution": {
     "iopub.execute_input": "2021-03-10T12:36:45.306399Z",
     "iopub.status.busy": "2021-03-10T12:36:45.305750Z",
     "iopub.status.idle": "2021-03-10T12:36:45.308904Z",
     "shell.execute_reply": "2021-03-10T12:36:45.308371Z"
    },
    "papermill": {
     "duration": 0.038703,
     "end_time": "2021-03-10T12:36:45.309031",
     "exception": false,
     "start_time": "2021-03-10T12:36:45.270328",
     "status": "completed"
    },
    "tags": []
   },
   "outputs": [
    {
     "name": "stdout",
     "output_type": "stream",
     "text": [
      "{'classifier': DecisionTreeClassifier(max_leaf_nodes=6), 'classifier__max_leaf_nodes': 6}\n"
     ]
    }
   ],
   "source": [
    "print(best_model.best_params_)"
   ]
  },
  {
   "cell_type": "code",
   "execution_count": 27,
   "metadata": {
    "execution": {
     "iopub.execute_input": "2021-03-10T12:36:45.375373Z",
     "iopub.status.busy": "2021-03-10T12:36:45.374801Z",
     "iopub.status.idle": "2021-03-10T12:36:45.377983Z",
     "shell.execute_reply": "2021-03-10T12:36:45.378427Z"
    },
    "papermill": {
     "duration": 0.038379,
     "end_time": "2021-03-10T12:36:45.378590",
     "exception": false,
     "start_time": "2021-03-10T12:36:45.340211",
     "status": "completed"
    },
    "tags": []
   },
   "outputs": [
    {
     "name": "stdout",
     "output_type": "stream",
     "text": [
      "0.975\n"
     ]
    }
   ],
   "source": [
    "print(best_model.best_score_)"
   ]
  },
  {
   "cell_type": "code",
   "execution_count": 28,
   "metadata": {
    "execution": {
     "iopub.execute_input": "2021-03-10T12:36:45.447530Z",
     "iopub.status.busy": "2021-03-10T12:36:45.446709Z",
     "iopub.status.idle": "2021-03-10T12:36:45.449430Z",
     "shell.execute_reply": "2021-03-10T12:36:45.448964Z"
    },
    "papermill": {
     "duration": 0.038786,
     "end_time": "2021-03-10T12:36:45.449568",
     "exception": false,
     "start_time": "2021-03-10T12:36:45.410782",
     "status": "completed"
    },
    "tags": []
   },
   "outputs": [],
   "source": [
    "#pd.DataFrame(best_model.cv_results_)"
   ]
  },
  {
   "cell_type": "code",
   "execution_count": 29,
   "metadata": {
    "execution": {
     "iopub.execute_input": "2021-03-10T12:36:45.521120Z",
     "iopub.status.busy": "2021-03-10T12:36:45.520496Z",
     "iopub.status.idle": "2021-03-10T12:36:45.523517Z",
     "shell.execute_reply": "2021-03-10T12:36:45.522983Z"
    },
    "papermill": {
     "duration": 0.041841,
     "end_time": "2021-03-10T12:36:45.523649",
     "exception": false,
     "start_time": "2021-03-10T12:36:45.481808",
     "status": "completed"
    },
    "tags": []
   },
   "outputs": [
    {
     "name": "stdout",
     "output_type": "stream",
     "text": [
      "0    82\n",
      "4    49\n",
      "1    21\n",
      "2    14\n",
      "3    14\n",
      "Name: Drug, dtype: int64\n",
      "0    9\n",
      "4    5\n",
      "1    2\n",
      "2    2\n",
      "3    2\n",
      "Name: Drug, dtype: int64\n"
     ]
    }
   ],
   "source": [
    "print(y_train.value_counts())\n",
    "print(y_test.value_counts())"
   ]
  },
  {
   "cell_type": "code",
   "execution_count": 30,
   "metadata": {
    "execution": {
     "iopub.execute_input": "2021-03-10T12:36:45.596496Z",
     "iopub.status.busy": "2021-03-10T12:36:45.595866Z",
     "iopub.status.idle": "2021-03-10T12:36:45.601253Z",
     "shell.execute_reply": "2021-03-10T12:36:45.600618Z"
    },
    "papermill": {
     "duration": 0.046077,
     "end_time": "2021-03-10T12:36:45.601431",
     "exception": false,
     "start_time": "2021-03-10T12:36:45.555354",
     "status": "completed"
    },
    "tags": []
   },
   "outputs": [
    {
     "name": "stdout",
     "output_type": "stream",
     "text": [
      "nan {'classifier': DecisionTreeClassifier(max_leaf_nodes=6), 'classifier__max_leaf_nodes': 1}\n",
      "0.975 {'classifier': DecisionTreeClassifier(max_leaf_nodes=6), 'classifier__max_leaf_nodes': 10}\n",
      "0.7738603988603989 {'classifier': DecisionTreeClassifier(max_leaf_nodes=6), 'classifier__max_leaf_nodes': 5}\n",
      "0.7500365750365751 {'classifier': DecisionTreeClassifier(max_leaf_nodes=6), 'classifier__max_leaf_nodes': 4}\n",
      "0.5251340409235146 {'classifier': DecisionTreeClassifier(max_leaf_nodes=6), 'classifier__max_leaf_nodes': 3}\n",
      "0.33331519274376414 {'classifier': DecisionTreeClassifier(max_leaf_nodes=6), 'classifier__max_leaf_nodes': 2}\n"
     ]
    }
   ],
   "source": [
    "dic={}\n",
    "\n",
    "for p,s in zip(best_model.cv_results_['params'],best_model.cv_results_['mean_test_score']):\n",
    "    dic[s]=p\n",
    "    #print(s,p)\n",
    "#for p,s in sorted(dic, reverse=True):\n",
    "#    print(s,p)\n",
    "for zzz in sorted(dic, reverse=True):\n",
    "    print(zzz,dic[zzz])"
   ]
  },
  {
   "cell_type": "code",
   "execution_count": 31,
   "metadata": {
    "execution": {
     "iopub.execute_input": "2021-03-10T12:36:45.672382Z",
     "iopub.status.busy": "2021-03-10T12:36:45.671808Z",
     "iopub.status.idle": "2021-03-10T12:36:45.683988Z",
     "shell.execute_reply": "2021-03-10T12:36:45.684430Z"
    },
    "papermill": {
     "duration": 0.050109,
     "end_time": "2021-03-10T12:36:45.684602",
     "exception": false,
     "start_time": "2021-03-10T12:36:45.634493",
     "status": "completed"
    },
    "tags": []
   },
   "outputs": [],
   "source": [
    "from sklearn.model_selection import cross_val_predict\n",
    "\n",
    "y_train_pred = cross_val_predict(best_model.best_estimator_, x_train, y_train, cv=5)"
   ]
  },
  {
   "cell_type": "code",
   "execution_count": 32,
   "metadata": {
    "execution": {
     "iopub.execute_input": "2021-03-10T12:36:45.753648Z",
     "iopub.status.busy": "2021-03-10T12:36:45.753060Z",
     "iopub.status.idle": "2021-03-10T12:36:45.760363Z",
     "shell.execute_reply": "2021-03-10T12:36:45.759897Z"
    },
    "papermill": {
     "duration": 0.043074,
     "end_time": "2021-03-10T12:36:45.760501",
     "exception": false,
     "start_time": "2021-03-10T12:36:45.717427",
     "status": "completed"
    },
    "tags": []
   },
   "outputs": [
    {
     "data": {
      "text/plain": [
       "array([[82,  0,  0,  0,  0],\n",
       "       [ 0, 21,  0,  0,  0],\n",
       "       [ 0,  1, 13,  0,  0],\n",
       "       [ 0,  0,  0, 14,  0],\n",
       "       [ 0,  0,  0,  0, 49]])"
      ]
     },
     "execution_count": 32,
     "metadata": {},
     "output_type": "execute_result"
    }
   ],
   "source": [
    "from sklearn.metrics import confusion_matrix\n",
    "\n",
    "confusion_matrix(y_train, y_train_pred)"
   ]
  },
  {
   "cell_type": "code",
   "execution_count": 33,
   "metadata": {
    "execution": {
     "iopub.execute_input": "2021-03-10T12:36:45.834736Z",
     "iopub.status.busy": "2021-03-10T12:36:45.834086Z",
     "iopub.status.idle": "2021-03-10T12:36:45.841236Z",
     "shell.execute_reply": "2021-03-10T12:36:45.841843Z"
    },
    "papermill": {
     "duration": 0.047692,
     "end_time": "2021-03-10T12:36:45.842040",
     "exception": false,
     "start_time": "2021-03-10T12:36:45.794348",
     "status": "completed"
    },
    "tags": []
   },
   "outputs": [
    {
     "name": "stdout",
     "output_type": "stream",
     "text": [
      "              precision    recall  f1-score   support\n",
      "\n",
      "           0       1.00      1.00      1.00        82\n",
      "           1       0.95      1.00      0.98        21\n",
      "           2       1.00      0.93      0.96        14\n",
      "           3       1.00      1.00      1.00        14\n",
      "           4       1.00      1.00      1.00        49\n",
      "\n",
      "    accuracy                           0.99       180\n",
      "   macro avg       0.99      0.99      0.99       180\n",
      "weighted avg       0.99      0.99      0.99       180\n",
      "\n"
     ]
    }
   ],
   "source": [
    "from sklearn.metrics import classification_report\n",
    "\n",
    "print(classification_report(y_train, y_train_pred))"
   ]
  },
  {
   "cell_type": "markdown",
   "metadata": {
    "papermill": {
     "duration": 0.033492,
     "end_time": "2021-03-10T12:36:45.909712",
     "exception": false,
     "start_time": "2021-03-10T12:36:45.876220",
     "status": "completed"
    },
    "tags": []
   },
   "source": [
    "# Evaluation"
   ]
  },
  {
   "cell_type": "code",
   "execution_count": 34,
   "metadata": {
    "execution": {
     "iopub.execute_input": "2021-03-10T12:36:45.984368Z",
     "iopub.status.busy": "2021-03-10T12:36:45.983646Z",
     "iopub.status.idle": "2021-03-10T12:36:45.986751Z",
     "shell.execute_reply": "2021-03-10T12:36:45.986167Z"
    },
    "papermill": {
     "duration": 0.043731,
     "end_time": "2021-03-10T12:36:45.986891",
     "exception": false,
     "start_time": "2021-03-10T12:36:45.943160",
     "status": "completed"
    },
    "tags": []
   },
   "outputs": [],
   "source": [
    "x_test_scaled=scc.transform(x_test)\n",
    "\n",
    "y_test_pred=best_model.best_estimator_.predict(x_test_scaled)"
   ]
  },
  {
   "cell_type": "code",
   "execution_count": 35,
   "metadata": {
    "execution": {
     "iopub.execute_input": "2021-03-10T12:36:46.058522Z",
     "iopub.status.busy": "2021-03-10T12:36:46.057700Z",
     "iopub.status.idle": "2021-03-10T12:36:46.063469Z",
     "shell.execute_reply": "2021-03-10T12:36:46.063901Z"
    },
    "papermill": {
     "duration": 0.043456,
     "end_time": "2021-03-10T12:36:46.064059",
     "exception": false,
     "start_time": "2021-03-10T12:36:46.020603",
     "status": "completed"
    },
    "tags": []
   },
   "outputs": [
    {
     "data": {
      "text/plain": [
       "array([[9, 0, 0, 0, 0],\n",
       "       [0, 2, 0, 0, 0],\n",
       "       [0, 0, 2, 0, 0],\n",
       "       [0, 0, 0, 2, 0],\n",
       "       [1, 0, 0, 0, 4]])"
      ]
     },
     "execution_count": 35,
     "metadata": {},
     "output_type": "execute_result"
    }
   ],
   "source": [
    "confusion_matrix(y_test, y_test_pred)"
   ]
  },
  {
   "cell_type": "code",
   "execution_count": 36,
   "metadata": {
    "execution": {
     "iopub.execute_input": "2021-03-10T12:36:46.136654Z",
     "iopub.status.busy": "2021-03-10T12:36:46.135739Z",
     "iopub.status.idle": "2021-03-10T12:36:46.145783Z",
     "shell.execute_reply": "2021-03-10T12:36:46.146188Z"
    },
    "papermill": {
     "duration": 0.047912,
     "end_time": "2021-03-10T12:36:46.146375",
     "exception": false,
     "start_time": "2021-03-10T12:36:46.098463",
     "status": "completed"
    },
    "tags": []
   },
   "outputs": [
    {
     "name": "stdout",
     "output_type": "stream",
     "text": [
      "              precision    recall  f1-score   support\n",
      "\n",
      "           0       0.90      1.00      0.95         9\n",
      "           1       1.00      1.00      1.00         2\n",
      "           2       1.00      1.00      1.00         2\n",
      "           3       1.00      1.00      1.00         2\n",
      "           4       1.00      0.80      0.89         5\n",
      "\n",
      "    accuracy                           0.95        20\n",
      "   macro avg       0.98      0.96      0.97        20\n",
      "weighted avg       0.96      0.95      0.95        20\n",
      "\n"
     ]
    }
   ],
   "source": [
    "print(classification_report(y_test, y_test_pred))"
   ]
  },
  {
   "cell_type": "code",
   "execution_count": null,
   "metadata": {
    "papermill": {
     "duration": 0.035975,
     "end_time": "2021-03-10T12:36:46.218150",
     "exception": false,
     "start_time": "2021-03-10T12:36:46.182175",
     "status": "completed"
    },
    "tags": []
   },
   "outputs": [],
   "source": []
  }
 ],
 "metadata": {
  "kernelspec": {
   "display_name": "Python 3",
   "language": "python",
   "name": "python3"
  },
  "language_info": {
   "codemirror_mode": {
    "name": "ipython",
    "version": 3
   },
   "file_extension": ".py",
   "mimetype": "text/x-python",
   "name": "python",
   "nbconvert_exporter": "python",
   "pygments_lexer": "ipython3",
   "version": "3.7.9"
  },
  "papermill": {
   "default_parameters": {},
   "duration": 12.515016,
   "end_time": "2021-03-10T12:36:47.065179",
   "environment_variables": {},
   "exception": null,
   "input_path": "__notebook__.ipynb",
   "output_path": "__notebook__.ipynb",
   "parameters": {},
   "start_time": "2021-03-10T12:36:34.550163",
   "version": "2.2.2"
  }
 },
 "nbformat": 4,
 "nbformat_minor": 4
}
